{
 "cells": [
  {
   "cell_type": "code",
   "execution_count": 15,
   "metadata": {
    "id": "wX2gD3vXlnqv"
   },
   "outputs": [],
   "source": [
    "with open('requirements.txt', 'w') as f:\n",
    "    f.write('''scipy\n",
    "pandas\n",
    "matplotlib\n",
    "tensorflow\n",
    "Keras-Preprocessing\n",
    "torchvision\n",
    "scikit-learn>=1.3\n",
    "''')"
   ]
  },
  {
   "cell_type": "code",
   "execution_count": 16,
   "metadata": {
    "colab": {
     "base_uri": "https://localhost:8080/"
    },
    "id": "3Ka-xDBolnnO",
    "outputId": "994a34ce-870c-48e0-fc84-67e06343da01"
   },
   "outputs": [
    {
     "name": "stdout",
     "output_type": "stream",
     "text": [
      "Requirement already satisfied: scipy in c:\\users\\alici\\appdata\\local\\programs\\python\\python311\\lib\\site-packages (from -r requirements.txt (line 1)) (1.14.1)\n",
      "Requirement already satisfied: pandas in c:\\users\\alici\\appdata\\local\\programs\\python\\python311\\lib\\site-packages (from -r requirements.txt (line 2)) (2.2.3)\n",
      "Requirement already satisfied: matplotlib in c:\\users\\alici\\appdata\\local\\programs\\python\\python311\\lib\\site-packages (from -r requirements.txt (line 3)) (3.9.2)\n",
      "Requirement already satisfied: tensorflow in c:\\users\\alici\\appdata\\local\\programs\\python\\python311\\lib\\site-packages (from -r requirements.txt (line 4)) (2.14.1)\n",
      "Collecting Keras-Preprocessing\n",
      "  Downloading Keras_Preprocessing-1.1.2-py2.py3-none-any.whl (42 kB)\n",
      "     -------------------------------------- 42.6/42.6 kB 344.1 kB/s eta 0:00:00\n",
      "Requirement already satisfied: torchvision in c:\\users\\alici\\appdata\\local\\programs\\python\\python311\\lib\\site-packages (from -r requirements.txt (line 6)) (0.18.0+cu118)\n",
      "Requirement already satisfied: scikit-learn>=1.3 in c:\\users\\alici\\appdata\\local\\programs\\python\\python311\\lib\\site-packages (from -r requirements.txt (line 7)) (1.5.2)\n",
      "Requirement already satisfied: numpy<2.3,>=1.23.5 in c:\\users\\alici\\appdata\\local\\programs\\python\\python311\\lib\\site-packages (from scipy->-r requirements.txt (line 1)) (1.26.4)\n",
      "Requirement already satisfied: python-dateutil>=2.8.2 in c:\\users\\alici\\appdata\\local\\programs\\python\\python311\\lib\\site-packages (from pandas->-r requirements.txt (line 2)) (2.9.0.post0)\n",
      "Requirement already satisfied: pytz>=2020.1 in c:\\users\\alici\\appdata\\local\\programs\\python\\python311\\lib\\site-packages (from pandas->-r requirements.txt (line 2)) (2024.2)\n",
      "Requirement already satisfied: tzdata>=2022.7 in c:\\users\\alici\\appdata\\local\\programs\\python\\python311\\lib\\site-packages (from pandas->-r requirements.txt (line 2)) (2024.2)\n",
      "Requirement already satisfied: contourpy>=1.0.1 in c:\\users\\alici\\appdata\\local\\programs\\python\\python311\\lib\\site-packages (from matplotlib->-r requirements.txt (line 3)) (1.3.0)\n",
      "Requirement already satisfied: cycler>=0.10 in c:\\users\\alici\\appdata\\local\\programs\\python\\python311\\lib\\site-packages (from matplotlib->-r requirements.txt (line 3)) (0.12.1)\n",
      "Requirement already satisfied: fonttools>=4.22.0 in c:\\users\\alici\\appdata\\local\\programs\\python\\python311\\lib\\site-packages (from matplotlib->-r requirements.txt (line 3)) (4.54.1)\n",
      "Requirement already satisfied: kiwisolver>=1.3.1 in c:\\users\\alici\\appdata\\local\\programs\\python\\python311\\lib\\site-packages (from matplotlib->-r requirements.txt (line 3)) (1.4.7)\n",
      "Requirement already satisfied: packaging>=20.0 in c:\\users\\alici\\appdata\\local\\programs\\python\\python311\\lib\\site-packages (from matplotlib->-r requirements.txt (line 3)) (24.1)\n",
      "Requirement already satisfied: pillow>=8 in c:\\users\\alici\\appdata\\local\\programs\\python\\python311\\lib\\site-packages (from matplotlib->-r requirements.txt (line 3)) (10.4.0)\n",
      "Requirement already satisfied: pyparsing>=2.3.1 in c:\\users\\alici\\appdata\\local\\programs\\python\\python311\\lib\\site-packages (from matplotlib->-r requirements.txt (line 3)) (3.1.4)\n",
      "Requirement already satisfied: tensorflow-intel==2.14.1 in c:\\users\\alici\\appdata\\local\\programs\\python\\python311\\lib\\site-packages (from tensorflow->-r requirements.txt (line 4)) (2.14.1)\n",
      "Requirement already satisfied: absl-py>=1.0.0 in c:\\users\\alici\\appdata\\local\\programs\\python\\python311\\lib\\site-packages (from tensorflow-intel==2.14.1->tensorflow->-r requirements.txt (line 4)) (2.1.0)\n",
      "Requirement already satisfied: astunparse>=1.6.0 in c:\\users\\alici\\appdata\\local\\programs\\python\\python311\\lib\\site-packages (from tensorflow-intel==2.14.1->tensorflow->-r requirements.txt (line 4)) (1.6.3)\n",
      "Requirement already satisfied: flatbuffers>=23.5.26 in c:\\users\\alici\\appdata\\local\\programs\\python\\python311\\lib\\site-packages (from tensorflow-intel==2.14.1->tensorflow->-r requirements.txt (line 4)) (24.3.25)\n",
      "Requirement already satisfied: gast!=0.5.0,!=0.5.1,!=0.5.2,>=0.2.1 in c:\\users\\alici\\appdata\\local\\programs\\python\\python311\\lib\\site-packages (from tensorflow-intel==2.14.1->tensorflow->-r requirements.txt (line 4)) (0.6.0)\n",
      "Requirement already satisfied: google-pasta>=0.1.1 in c:\\users\\alici\\appdata\\local\\programs\\python\\python311\\lib\\site-packages (from tensorflow-intel==2.14.1->tensorflow->-r requirements.txt (line 4)) (0.2.0)\n",
      "Requirement already satisfied: h5py>=2.9.0 in c:\\users\\alici\\appdata\\local\\programs\\python\\python311\\lib\\site-packages (from tensorflow-intel==2.14.1->tensorflow->-r requirements.txt (line 4)) (3.12.1)\n",
      "Requirement already satisfied: libclang>=13.0.0 in c:\\users\\alici\\appdata\\local\\programs\\python\\python311\\lib\\site-packages (from tensorflow-intel==2.14.1->tensorflow->-r requirements.txt (line 4)) (18.1.1)\n",
      "Requirement already satisfied: ml-dtypes==0.2.0 in c:\\users\\alici\\appdata\\local\\programs\\python\\python311\\lib\\site-packages (from tensorflow-intel==2.14.1->tensorflow->-r requirements.txt (line 4)) (0.2.0)\n",
      "Requirement already satisfied: opt-einsum>=2.3.2 in c:\\users\\alici\\appdata\\local\\programs\\python\\python311\\lib\\site-packages (from tensorflow-intel==2.14.1->tensorflow->-r requirements.txt (line 4)) (3.4.0)\n",
      "Requirement already satisfied: protobuf!=4.21.0,!=4.21.1,!=4.21.2,!=4.21.3,!=4.21.4,!=4.21.5,<5.0.0dev,>=3.20.3 in c:\\users\\alici\\appdata\\local\\programs\\python\\python311\\lib\\site-packages (from tensorflow-intel==2.14.1->tensorflow->-r requirements.txt (line 4)) (4.25.5)\n",
      "Requirement already satisfied: setuptools in c:\\users\\alici\\appdata\\local\\programs\\python\\python311\\lib\\site-packages (from tensorflow-intel==2.14.1->tensorflow->-r requirements.txt (line 4)) (65.5.0)\n",
      "Requirement already satisfied: six>=1.12.0 in c:\\users\\alici\\appdata\\local\\programs\\python\\python311\\lib\\site-packages (from tensorflow-intel==2.14.1->tensorflow->-r requirements.txt (line 4)) (1.16.0)\n",
      "Requirement already satisfied: termcolor>=1.1.0 in c:\\users\\alici\\appdata\\local\\programs\\python\\python311\\lib\\site-packages (from tensorflow-intel==2.14.1->tensorflow->-r requirements.txt (line 4)) (2.4.0)\n",
      "Requirement already satisfied: typing-extensions>=3.6.6 in c:\\users\\alici\\appdata\\local\\programs\\python\\python311\\lib\\site-packages (from tensorflow-intel==2.14.1->tensorflow->-r requirements.txt (line 4)) (4.12.2)\n",
      "Requirement already satisfied: wrapt<1.15,>=1.11.0 in c:\\users\\alici\\appdata\\local\\programs\\python\\python311\\lib\\site-packages (from tensorflow-intel==2.14.1->tensorflow->-r requirements.txt (line 4)) (1.14.1)\n",
      "Requirement already satisfied: tensorflow-io-gcs-filesystem>=0.23.1 in c:\\users\\alici\\appdata\\local\\programs\\python\\python311\\lib\\site-packages (from tensorflow-intel==2.14.1->tensorflow->-r requirements.txt (line 4)) (0.31.0)\n",
      "Requirement already satisfied: grpcio<2.0,>=1.24.3 in c:\\users\\alici\\appdata\\local\\programs\\python\\python311\\lib\\site-packages (from tensorflow-intel==2.14.1->tensorflow->-r requirements.txt (line 4)) (1.66.2)\n",
      "Requirement already satisfied: tensorboard<2.15,>=2.14 in c:\\users\\alici\\appdata\\local\\programs\\python\\python311\\lib\\site-packages (from tensorflow-intel==2.14.1->tensorflow->-r requirements.txt (line 4)) (2.14.1)\n",
      "Requirement already satisfied: tensorflow-estimator<2.15,>=2.14.0 in c:\\users\\alici\\appdata\\local\\programs\\python\\python311\\lib\\site-packages (from tensorflow-intel==2.14.1->tensorflow->-r requirements.txt (line 4)) (2.14.0)\n",
      "Requirement already satisfied: keras<2.15,>=2.14.0 in c:\\users\\alici\\appdata\\local\\programs\\python\\python311\\lib\\site-packages (from tensorflow-intel==2.14.1->tensorflow->-r requirements.txt (line 4)) (2.14.0)\n",
      "Requirement already satisfied: torch==2.3.0+cu118 in c:\\users\\alici\\appdata\\local\\programs\\python\\python311\\lib\\site-packages (from torchvision->-r requirements.txt (line 6)) (2.3.0+cu118)\n",
      "Requirement already satisfied: filelock in c:\\users\\alici\\appdata\\local\\programs\\python\\python311\\lib\\site-packages (from torch==2.3.0+cu118->torchvision->-r requirements.txt (line 6)) (3.16.1)\n",
      "Requirement already satisfied: sympy in c:\\users\\alici\\appdata\\local\\programs\\python\\python311\\lib\\site-packages (from torch==2.3.0+cu118->torchvision->-r requirements.txt (line 6)) (1.13.1)\n",
      "Requirement already satisfied: networkx in c:\\users\\alici\\appdata\\local\\programs\\python\\python311\\lib\\site-packages (from torch==2.3.0+cu118->torchvision->-r requirements.txt (line 6)) (3.3)\n",
      "Requirement already satisfied: jinja2 in c:\\users\\alici\\appdata\\local\\programs\\python\\python311\\lib\\site-packages (from torch==2.3.0+cu118->torchvision->-r requirements.txt (line 6)) (3.1.4)\n",
      "Requirement already satisfied: fsspec in c:\\users\\alici\\appdata\\local\\programs\\python\\python311\\lib\\site-packages (from torch==2.3.0+cu118->torchvision->-r requirements.txt (line 6)) (2024.9.0)\n",
      "Requirement already satisfied: mkl<=2021.4.0,>=2021.1.1 in c:\\users\\alici\\appdata\\local\\programs\\python\\python311\\lib\\site-packages (from torch==2.3.0+cu118->torchvision->-r requirements.txt (line 6)) (2021.4.0)\n",
      "Requirement already satisfied: joblib>=1.2.0 in c:\\users\\alici\\appdata\\local\\programs\\python\\python311\\lib\\site-packages (from scikit-learn>=1.3->-r requirements.txt (line 7)) (1.4.2)\n",
      "Requirement already satisfied: threadpoolctl>=3.1.0 in c:\\users\\alici\\appdata\\local\\programs\\python\\python311\\lib\\site-packages (from scikit-learn>=1.3->-r requirements.txt (line 7)) (3.5.0)\n",
      "Requirement already satisfied: wheel<1.0,>=0.23.0 in c:\\users\\alici\\appdata\\local\\programs\\python\\python311\\lib\\site-packages (from astunparse>=1.6.0->tensorflow-intel==2.14.1->tensorflow->-r requirements.txt (line 4)) (0.44.0)\n",
      "Requirement already satisfied: intel-openmp==2021.* in c:\\users\\alici\\appdata\\local\\programs\\python\\python311\\lib\\site-packages (from mkl<=2021.4.0,>=2021.1.1->torch==2.3.0+cu118->torchvision->-r requirements.txt (line 6)) (2021.4.0)\n",
      "Requirement already satisfied: tbb==2021.* in c:\\users\\alici\\appdata\\local\\programs\\python\\python311\\lib\\site-packages (from mkl<=2021.4.0,>=2021.1.1->torch==2.3.0+cu118->torchvision->-r requirements.txt (line 6)) (2021.13.1)\n",
      "Requirement already satisfied: google-auth<3,>=1.6.3 in c:\\users\\alici\\appdata\\local\\programs\\python\\python311\\lib\\site-packages (from tensorboard<2.15,>=2.14->tensorflow-intel==2.14.1->tensorflow->-r requirements.txt (line 4)) (2.35.0)\n",
      "Requirement already satisfied: google-auth-oauthlib<1.1,>=0.5 in c:\\users\\alici\\appdata\\local\\programs\\python\\python311\\lib\\site-packages (from tensorboard<2.15,>=2.14->tensorflow-intel==2.14.1->tensorflow->-r requirements.txt (line 4)) (1.0.0)\n",
      "Requirement already satisfied: markdown>=2.6.8 in c:\\users\\alici\\appdata\\local\\programs\\python\\python311\\lib\\site-packages (from tensorboard<2.15,>=2.14->tensorflow-intel==2.14.1->tensorflow->-r requirements.txt (line 4)) (3.7)\n",
      "Requirement already satisfied: requests<3,>=2.21.0 in c:\\users\\alici\\appdata\\local\\programs\\python\\python311\\lib\\site-packages (from tensorboard<2.15,>=2.14->tensorflow-intel==2.14.1->tensorflow->-r requirements.txt (line 4)) (2.32.3)\n",
      "Requirement already satisfied: tensorboard-data-server<0.8.0,>=0.7.0 in c:\\users\\alici\\appdata\\local\\programs\\python\\python311\\lib\\site-packages (from tensorboard<2.15,>=2.14->tensorflow-intel==2.14.1->tensorflow->-r requirements.txt (line 4)) (0.7.2)\n",
      "Requirement already satisfied: werkzeug>=1.0.1 in c:\\users\\alici\\appdata\\local\\programs\\python\\python311\\lib\\site-packages (from tensorboard<2.15,>=2.14->tensorflow-intel==2.14.1->tensorflow->-r requirements.txt (line 4)) (3.0.4)\n",
      "Requirement already satisfied: MarkupSafe>=2.0 in c:\\users\\alici\\appdata\\local\\programs\\python\\python311\\lib\\site-packages (from jinja2->torch==2.3.0+cu118->torchvision->-r requirements.txt (line 6)) (2.1.5)\n",
      "Requirement already satisfied: mpmath<1.4,>=1.1.0 in c:\\users\\alici\\appdata\\local\\programs\\python\\python311\\lib\\site-packages (from sympy->torch==2.3.0+cu118->torchvision->-r requirements.txt (line 6)) (1.3.0)\n",
      "Requirement already satisfied: cachetools<6.0,>=2.0.0 in c:\\users\\alici\\appdata\\local\\programs\\python\\python311\\lib\\site-packages (from google-auth<3,>=1.6.3->tensorboard<2.15,>=2.14->tensorflow-intel==2.14.1->tensorflow->-r requirements.txt (line 4)) (5.5.0)\n",
      "Requirement already satisfied: pyasn1-modules>=0.2.1 in c:\\users\\alici\\appdata\\local\\programs\\python\\python311\\lib\\site-packages (from google-auth<3,>=1.6.3->tensorboard<2.15,>=2.14->tensorflow-intel==2.14.1->tensorflow->-r requirements.txt (line 4)) (0.4.1)\n",
      "Requirement already satisfied: rsa<5,>=3.1.4 in c:\\users\\alici\\appdata\\local\\programs\\python\\python311\\lib\\site-packages (from google-auth<3,>=1.6.3->tensorboard<2.15,>=2.14->tensorflow-intel==2.14.1->tensorflow->-r requirements.txt (line 4)) (4.9)\n",
      "Requirement already satisfied: requests-oauthlib>=0.7.0 in c:\\users\\alici\\appdata\\local\\programs\\python\\python311\\lib\\site-packages (from google-auth-oauthlib<1.1,>=0.5->tensorboard<2.15,>=2.14->tensorflow-intel==2.14.1->tensorflow->-r requirements.txt (line 4)) (2.0.0)\n",
      "Requirement already satisfied: charset-normalizer<4,>=2 in c:\\users\\alici\\appdata\\local\\programs\\python\\python311\\lib\\site-packages (from requests<3,>=2.21.0->tensorboard<2.15,>=2.14->tensorflow-intel==2.14.1->tensorflow->-r requirements.txt (line 4)) (3.3.2)\n",
      "Requirement already satisfied: idna<4,>=2.5 in c:\\users\\alici\\appdata\\local\\programs\\python\\python311\\lib\\site-packages (from requests<3,>=2.21.0->tensorboard<2.15,>=2.14->tensorflow-intel==2.14.1->tensorflow->-r requirements.txt (line 4)) (3.10)\n",
      "Requirement already satisfied: urllib3<3,>=1.21.1 in c:\\users\\alici\\appdata\\local\\programs\\python\\python311\\lib\\site-packages (from requests<3,>=2.21.0->tensorboard<2.15,>=2.14->tensorflow-intel==2.14.1->tensorflow->-r requirements.txt (line 4)) (2.2.3)\n",
      "Requirement already satisfied: certifi>=2017.4.17 in c:\\users\\alici\\appdata\\local\\programs\\python\\python311\\lib\\site-packages (from requests<3,>=2.21.0->tensorboard<2.15,>=2.14->tensorflow-intel==2.14.1->tensorflow->-r requirements.txt (line 4)) (2024.8.30)\n",
      "Requirement already satisfied: pyasn1<0.7.0,>=0.4.6 in c:\\users\\alici\\appdata\\local\\programs\\python\\python311\\lib\\site-packages (from pyasn1-modules>=0.2.1->google-auth<3,>=1.6.3->tensorboard<2.15,>=2.14->tensorflow-intel==2.14.1->tensorflow->-r requirements.txt (line 4)) (0.6.1)\n",
      "Requirement already satisfied: oauthlib>=3.0.0 in c:\\users\\alici\\appdata\\local\\programs\\python\\python311\\lib\\site-packages (from requests-oauthlib>=0.7.0->google-auth-oauthlib<1.1,>=0.5->tensorboard<2.15,>=2.14->tensorflow-intel==2.14.1->tensorflow->-r requirements.txt (line 4)) (3.2.2)\n",
      "Installing collected packages: Keras-Preprocessing\n",
      "Successfully installed Keras-Preprocessing-1.1.2\n"
     ]
    },
    {
     "name": "stderr",
     "output_type": "stream",
     "text": [
      "\n",
      "[notice] A new release of pip available: 22.3 -> 24.3.1\n",
      "[notice] To update, run: python.exe -m pip install --upgrade pip\n"
     ]
    }
   ],
   "source": [
    "!pip install -r requirements.txt"
   ]
  },
  {
   "cell_type": "code",
   "execution_count": null,
   "metadata": {
    "colab": {
     "base_uri": "https://localhost:8080/"
    },
    "id": "XdbvpC-apH5S",
    "outputId": "463996b0-9b87-4ee3-acd7-9d40a5385595"
   },
   "outputs": [],
   "source": [
    "# from google.colab import drive\n",
    "\n",
    "# # Mount Google Drive\n",
    "# drive.mount('/content/drive')"
   ]
  },
  {
   "cell_type": "code",
   "execution_count": 1,
   "metadata": {
    "id": "Gv66Fp2_lnfh"
   },
   "outputs": [],
   "source": [
    "import torch\n",
    "from torchvision import models\n",
    "import torch.nn as nn\n",
    "from torchvision import transforms\n",
    "from torch.utils.data import DataLoader\n",
    "from torchvision.datasets import ImageFolder\n",
    "import numpy as np\n",
    "\n",
    "device = torch.device('cuda' if torch.cuda.is_available() else 'cpu')\n"
   ]
  },
  {
   "cell_type": "code",
   "execution_count": 3,
   "metadata": {
    "id": "ItsdRgwvSbp-"
   },
   "outputs": [
    {
     "name": "stdout",
     "output_type": "stream",
     "text": [
      "ResNet18 model loaded successfully from 'model_resnet18.pth'\n"
     ]
    }
   ],
   "source": [
    "# Load resnet18 model\n",
    "resnet18_model = models.resnet18(pretrained=False)  # Set pretrained to False\n",
    "num_features = resnet18_model.fc.in_features\n",
    "resnet18_model.fc = nn.Linear(num_features, 102)  # Adjust the final layer for 102 classes\n",
    "\n",
    "# Move model to device\n",
    "resnet18_model = resnet18_model.to(device)\n",
    "\n",
    "# Step 2: Load the saved model weights\n",
    "resnet18_model.load_state_dict(torch.load('resnet_18(5).pth'))\n",
    "\n",
    "# Set the model to evaluation mode\n",
    "resnet18_model.eval()\n",
    "\n",
    "print(\"ResNet18 model loaded successfully from 'model_resnet18.pth'\")"
   ]
  },
  {
   "cell_type": "code",
   "execution_count": 4,
   "metadata": {
    "id": "BGalsiucRLmU"
   },
   "outputs": [
    {
     "name": "stdout",
     "output_type": "stream",
     "text": [
      "VGG16 model loaded successfully from 'model_vgg16.pth'\n"
     ]
    }
   ],
   "source": [
    "# Load vgg16 model\n",
    "\n",
    "vgg16_model = models.vgg16(pretrained=False)  # Set pretrained to False\n",
    "num_features = vgg16_model.classifier[6].in_features\n",
    "vgg16_model.classifier[6] = nn.Linear(num_features, 102)  # Adjust the final layer for 102 classes\n",
    "\n",
    "# Move model to device\n",
    "vgg16_model = vgg16_model.to(device)\n",
    "\n",
    "# Step 2: Load the saved model weights\n",
    "vgg16_model.load_state_dict(torch.load('model_vgg16(8).pth'))\n",
    "\n",
    "# Set the model to evaluation mode\n",
    "vgg16_model.eval()\n",
    "\n",
    "print(\"VGG16 model loaded successfully from 'model_vgg16.pth'\")"
   ]
  },
  {
   "cell_type": "code",
   "execution_count": 14,
   "metadata": {
    "id": "WPJw89ITRLod"
   },
   "outputs": [
    {
     "name": "stdout",
     "output_type": "stream",
     "text": [
      "VGG19 model loaded successfully from 'model_vgg19.pth'\n"
     ]
    }
   ],
   "source": [
    "# Load vgg19 model\n",
    "\n",
    "vgg19_model = models.vgg19(pretrained=False)  # Set pretrained to False\n",
    "num_features = vgg19_model.classifier[6].in_features\n",
    "vgg19_model.classifier[6] = nn.Linear(num_features, 102)  # Adjust the final layer for 102 classes\n",
    "\n",
    "# Move model to device\n",
    "vgg19_model = vgg19_model.to(device)\n",
    "\n",
    "# Step 2: Load the saved model weights\n",
    "vgg19_model.load_state_dict(torch.load('model_vgg19(13).pth'))\n",
    "\n",
    "# Set the model to evaluation mode\n",
    "vgg19_model.eval()\n",
    "\n",
    "print(\"VGG19 model loaded successfully from 'model_vgg19.pth'\")"
   ]
  },
  {
   "cell_type": "code",
   "execution_count": 6,
   "metadata": {},
   "outputs": [
    {
     "name": "stderr",
     "output_type": "stream",
     "text": [
      "Some weights of DeiTForImageClassification were not initialized from the model checkpoint at facebook/deit-base-distilled-patch16-224 and are newly initialized: ['classifier.bias', 'classifier.weight']\n",
      "You should probably TRAIN this model on a down-stream task to be able to use it for predictions and inference.\n"
     ]
    },
    {
     "name": "stdout",
     "output_type": "stream",
     "text": [
      "DEIT model loaded successfully from 'model_deit.pth'\n"
     ]
    }
   ],
   "source": [
    "# Load DeiT model\n",
    "# Define the path to your saved model weights\n",
    "from transformers import DeiTForImageClassification\n",
    "model_deit_path = 'model_deit(2).pth'\n",
    "\n",
    "# Load DEIT model architecture from Torch Hub\n",
    "deit_model = DeiTForImageClassification.from_pretrained(\n",
    "        'facebook/deit-base-distilled-patch16-224',\n",
    "        num_labels=102\n",
    "    )\n",
    "\n",
    "# Load the saved model weights\n",
    "deit_model.load_state_dict(torch.load(model_deit_path))\n",
    "\n",
    "# Set the model to evaluation mode\n",
    "deit_model.eval()\n",
    "\n",
    "print(\"DEIT model loaded successfully from 'model_deit.pth'\")\n"
   ]
  },
  {
   "cell_type": "code",
   "execution_count": 7,
   "metadata": {
    "id": "qR6omgZrRLrO"
   },
   "outputs": [],
   "source": [
    "# Test Data\n",
    "\n",
    "import torch\n",
    "from torchvision import transforms\n",
    "from torch.utils.data import DataLoader\n",
    "from torchvision.datasets import ImageFolder\n",
    "\n",
    "# Define the device\n",
    "device = torch.device('cuda' if torch.cuda.is_available() else 'cpu')\n",
    "\n",
    "# Define transformations for the test dataset\n",
    "test_transforms = transforms.Compose([\n",
    "    transforms.Resize((224, 224)),  # ResNet18 expects 224x224 input size\n",
    "    transforms.ToTensor(),\n",
    "    transforms.Normalize([0.485, 0.456, 0.406], [0.229, 0.224, 0.225])  # Standard normalization for ResNet\n",
    "])\n",
    "\n",
    "# Load the test dataset\n",
    "test_folder = '102flowers_segmen_split/test'\n",
    "test_dataset = ImageFolder(test_folder, transform=test_transforms)\n",
    "\n",
    "# Create a DataLoader for the test dataset\n",
    "test_loader = DataLoader(test_dataset, batch_size=32, shuffle=False)"
   ]
  },
  {
   "cell_type": "code",
   "execution_count": 15,
   "metadata": {
    "id": "gHS08u6URLt1"
   },
   "outputs": [],
   "source": [
    "# Move deit_model to the appropriate device (GPU if available)\n",
    "deit_model = deit_model.to(device)\n",
    "\n",
    "# Initialize lists to store probabilities and true labels across batches\n",
    "prob_resnet_all = []\n",
    "prob_deit_all = []\n",
    "prob_all_ensemble = []\n",
    "true_labels = []\n",
    "\n",
    "# Evaluate with no gradient calculations\n",
    "with torch.no_grad():\n",
    "    for inputs, labels in test_loader:\n",
    "        inputs = inputs.to(device)\n",
    "        labels = labels.to(device)\n",
    "\n",
    "        # Get probabilities from each model and ensure outputs are on the same device\n",
    "        prob_vgg16 = nn.functional.softmax(vgg16_model(inputs.to(device)), dim=1)\n",
    "        prob_vgg19 = nn.functional.softmax(vgg19_model(inputs.to(device)), dim=1)\n",
    "        prob_resnet_4 = nn.functional.softmax(resnet18_model(inputs.to(device)), dim=1)\n",
    "        prob_deit = nn.functional.softmax(deit_model(inputs.to(device)).logits, dim=1)  # Extract logits for DeiT\n",
    "\n",
    "        # Calculate the average probabilities for each ensemble method\n",
    "        avg_prob_resnet = (prob_vgg16 + prob_vgg19 + prob_resnet_4) / 3\n",
    "        avg_prob_deit = (prob_vgg16 + prob_vgg19 + prob_deit) / 3\n",
    "        avg_prob_all = (prob_vgg16 + prob_vgg19 + prob_resnet_4 + prob_deit) / 4\n",
    "\n",
    "        # Append to respective lists\n",
    "        prob_resnet_all.append(avg_prob_resnet)\n",
    "        prob_deit_all.append(avg_prob_deit)\n",
    "        prob_all_ensemble.append(avg_prob_all)\n",
    "        true_labels.append(labels)\n",
    "\n",
    "# Concatenate all stored tensors\n",
    "prob_resnet_all = torch.cat(prob_resnet_all)\n",
    "prob_deit_all = torch.cat(prob_deit_all)\n",
    "prob_all_ensemble = torch.cat(prob_all_ensemble)\n",
    "true_labels = torch.cat(true_labels)\n",
    "\n",
    "# Calculate final predictions\n",
    "final_preds_resnet = torch.argmax(prob_resnet_all, dim=1)\n",
    "final_preds_deit = torch.argmax(prob_deit_all, dim=1)\n",
    "final_preds_all = torch.argmax(prob_all_ensemble, dim=1)\n"
   ]
  },
  {
   "cell_type": "code",
   "execution_count": 16,
   "metadata": {
    "id": "lpw50WxmRLxD"
   },
   "outputs": [
    {
     "name": "stdout",
     "output_type": "stream",
     "text": [
      "ResNet18 Ensemble Accuracy: 76.6629\n",
      "DeiT Ensemble Accuracy: 80.0130\n",
      "Combined Ensemble Accuracy: 80.7123\n"
     ]
    }
   ],
   "source": [
    "# Calculate accuracy\n",
    "correct_resnet = torch.sum(final_preds_resnet == true_labels).item()\n",
    "correct_deit = torch.sum(final_preds_deit == true_labels).item()\n",
    "correct_all = torch.sum(final_preds_all == true_labels).item()\n",
    "\n",
    "total = len(true_labels)\n",
    "accuracy_resnet = correct_resnet / total * 100\n",
    "accuracy_deit = correct_deit / total * 100\n",
    "accuracy_all = correct_all / total * 100\n",
    "\n",
    "print(f\"ResNet18 Ensemble Accuracy: {accuracy_resnet:.4f}\")\n",
    "print(f\"DeiT Ensemble Accuracy: {accuracy_deit:.4f}\")\n",
    "print(f\"Combined Ensemble Accuracy: {accuracy_all:.4f}\")\n"
   ]
  },
  {
   "cell_type": "code",
   "execution_count": null,
   "metadata": {
    "id": "QW7tQjbHlndA"
   },
   "outputs": [],
   "source": []
  },
  {
   "cell_type": "code",
   "execution_count": null,
   "metadata": {
    "id": "BlWd9aL-llGB"
   },
   "outputs": [],
   "source": []
  }
 ],
 "metadata": {
  "accelerator": "GPU",
  "colab": {
   "gpuType": "T4",
   "provenance": []
  },
  "kernelspec": {
   "display_name": "Python 3",
   "name": "python3"
  },
  "language_info": {
   "codemirror_mode": {
    "name": "ipython",
    "version": 3
   },
   "file_extension": ".py",
   "mimetype": "text/x-python",
   "name": "python",
   "nbconvert_exporter": "python",
   "pygments_lexer": "ipython3",
   "version": "3.11.0"
  }
 },
 "nbformat": 4,
 "nbformat_minor": 0
}
